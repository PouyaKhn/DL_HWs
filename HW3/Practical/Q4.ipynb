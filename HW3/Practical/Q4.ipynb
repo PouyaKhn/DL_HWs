{
  "nbformat": 4,
  "nbformat_minor": 0,
  "metadata": {
    "colab": {
      "name": "Q4.ipynb",
      "provenance": [],
      "collapsed_sections": []
    },
    "kernelspec": {
      "name": "python3",
      "display_name": "Python 3"
    },
    "language_info": {
      "name": "python"
    },
    "accelerator": "GPU"
  },
  "cells": [
    {
      "cell_type": "markdown",
      "metadata": {
        "id": "uTlalKZz7VkN"
      },
      "source": [
        "Importing essential libraries"
      ]
    },
    {
      "cell_type": "code",
      "metadata": {
        "id": "490wTYs8tZV4"
      },
      "source": [
        "import torch\n",
        "from torch.autograd import Variable\n",
        "import torch.nn as nn\n",
        "import torch.optim as optim\n",
        "import functools\n",
        "import torchtext\n",
        "from torchtext.datasets import IMDB\n",
        "from torchtext.data import get_tokenizer\n",
        "from torchtext.legacy import data\n",
        "from torchtext.legacy import datasets"
      ],
      "execution_count": null,
      "outputs": []
    },
    {
      "cell_type": "markdown",
      "metadata": {
        "id": "wCD8Kr457aTn"
      },
      "source": [
        "Defining CBOW Network model as definition"
      ]
    },
    {
      "cell_type": "code",
      "metadata": {
        "id": "sWtXbjhotfuu"
      },
      "source": [
        "import functools\n",
        "\n",
        "CUDA = torch.cuda.is_available()\n",
        "\n",
        "torch.manual_seed(42)\n",
        "class CBOW(nn.Module):\n",
        "    \n",
        "    def __init__(self, vocab_size, embedding_size):\n",
        "        super().__init__()\n",
        "        self.embedding = nn.Embedding(vocab_size, embedding_size)\n",
        "        \n",
        "        if CUDA:\n",
        "            self.embedding = self.embedding.cuda()\n",
        "        self.hidden = nn.Linear(embedding_size, vocab_size)\n",
        "        self.op = nn.LogSoftmax(dim=-1)\n",
        "        \n",
        "    def forward(self, X):\n",
        "        p = self.embedding(X.long())\n",
        "        q = torch.mean(p, dim=0).view(1,-1)\n",
        "        r = self.hidden(q)\n",
        "        s = self.op(r)\n",
        "        \n",
        "        return s"
      ],
      "execution_count": null,
      "outputs": []
    },
    {
      "cell_type": "markdown",
      "metadata": {
        "id": "2oVI5QIt7eHL"
      },
      "source": [
        "Function for converting raw text to list of <context,target> base on window size"
      ]
    },
    {
      "cell_type": "code",
      "metadata": {
        "id": "vo2ky63bth-m"
      },
      "source": [
        "def text_to_train(text, context_window):\n",
        "\n",
        "    data = []\n",
        "    \n",
        "    for i in range(context_window, len(text) - context_window):\n",
        "        context = [\n",
        "            text[i+e] for e in range(-context_window, context_window+1) if i+e != i\n",
        "        ]\n",
        "        target = text[i]\n",
        "        \n",
        "        data.append((context, target))\n",
        "    return data"
      ],
      "execution_count": null,
      "outputs": []
    },
    {
      "cell_type": "markdown",
      "metadata": {
        "id": "SDZfN61H7lZX"
      },
      "source": [
        "defining iteration on train and test set of IMDB dataset"
      ]
    },
    {
      "cell_type": "code",
      "metadata": {
        "id": "ihT9-mUXz_8H"
      },
      "source": [
        "train_iter = IMDB(split='train')\n",
        "test_iter = IMDB(split = 'test')"
      ],
      "execution_count": null,
      "outputs": []
    },
    {
      "cell_type": "markdown",
      "metadata": {
        "id": "xKC334IG7qMN"
      },
      "source": [
        "converting all text in train and test set into one string using file appending"
      ]
    },
    {
      "cell_type": "code",
      "metadata": {
        "id": "X6yErnQ5tkWZ"
      },
      "source": [
        "\n",
        "file = open(\"data.txt\" , \"a\")\n",
        "for label,line in train_iter:\n",
        "  file.write(line)\n",
        "file.close()\n",
        "file = open(\"data.txt\",\"a\")\n",
        "for label,line in test_iter:\n",
        "  file.write(line)\n",
        "file.close()\n",
        "\n",
        "with open('data.txt') as file:\n",
        "  raw_text = file.readline()\n",
        "\n",
        "raw_text = raw_text.lower().split()\n",
        "raw_text = raw_text[0:5000]"
      ],
      "execution_count": null,
      "outputs": []
    },
    {
      "cell_type": "markdown",
      "metadata": {
        "id": "qsTuwCvf70Pt"
      },
      "source": [
        "preprocess raw data and create two dictionary for w2i and i2w and produce data samples based on preprocessed raw data"
      ]
    },
    {
      "cell_type": "code",
      "metadata": {
        "id": "fBpAX0dktm5N"
      },
      "source": [
        "for i, element in enumerate(raw_text):\n",
        "    element = element.replace('/>','')\n",
        "    element = element.replace('<br','')\n",
        "    raw_text[i] = element\n",
        "vocab = set(raw_text)\n",
        "word2index = {w:i for i,w in enumerate(vocab)}\n",
        "index2word = {i:w for i,w in enumerate(vocab)}\n",
        "\n",
        "data = text_to_train(raw_text, 2)"
      ],
      "execution_count": null,
      "outputs": []
    },
    {
      "cell_type": "markdown",
      "metadata": {
        "id": "QxO79Dh076mT"
      },
      "source": [
        "define function for converting one sentence to tensor of indexes using indexes in vocabulary"
      ]
    },
    {
      "cell_type": "code",
      "metadata": {
        "id": "ntzQPaeJtpNs"
      },
      "source": [
        "def words_to_tensor(words: list, w2i: dict, dtype=torch.FloatTensor):\n",
        "    tensor =  dtype([\n",
        "        w2i[word] for word in words\n",
        "    ])\n",
        "    \n",
        "    if CUDA:\n",
        "        tensor = tensor.cuda()\n",
        "    return Variable(tensor)"
      ],
      "execution_count": null,
      "outputs": []
    },
    {
      "cell_type": "markdown",
      "metadata": {
        "id": "7B0kuBv-8LzF"
      },
      "source": [
        "define one function for predict one word from its context and one function for check accuracy of model based on i2w vector"
      ]
    },
    {
      "cell_type": "code",
      "metadata": {
        "id": "ZTflGbK6trMo"
      },
      "source": [
        "def get_prediction(context, model):\n",
        "    model.eval()\n",
        "    prediction = model(words_to_tensor(context, word2index))\n",
        "    _, index = torch.max(prediction, 1)\n",
        "    return index2word[index.item()]\n",
        "\n",
        "def check_accuracy(model):\n",
        "    correct = 0\n",
        "    for context, target in data:\n",
        "        prediction = get_prediction(context, model)\n",
        "        if prediction == target:\n",
        "            correct += 1\n",
        "    return correct/len(data)"
      ],
      "execution_count": null,
      "outputs": []
    },
    {
      "cell_type": "markdown",
      "metadata": {
        "id": "nEMQtcEE8WZ1"
      },
      "source": [
        "training phase(250 epoch on 5000 sample because of computation issues)"
      ]
    },
    {
      "cell_type": "code",
      "metadata": {
        "colab": {
          "base_uri": "https://localhost:8080/"
        },
        "id": "TLoX68RcttjA",
        "outputId": "901b1743-e221-4c31-cf4f-2fe9d8463321"
      },
      "source": [
        "learning_rate = 0.001\n",
        "epochs = 250\n",
        "\n",
        "model = CBOW(len(vocab), 100)\n",
        "\n",
        "if CUDA:\n",
        "    model = model.cuda()\n",
        "\n",
        "loss_func = torch.nn.NLLLoss()\n",
        "optimizer = optim.SGD(model.parameters(), lr=learning_rate)\n",
        "losses = []\n",
        "for epoch in range(epochs):\n",
        "    total_loss = 0\n",
        "    for context, target in data:\n",
        "        ids = words_to_tensor(context,word2index)\n",
        "        target = words_to_tensor([target], word2index, dtype=torch.LongTensor)\n",
        "\n",
        "        model.zero_grad()\n",
        "        output = model(ids)\n",
        "\n",
        "        loss = loss_func(output, target)\n",
        "        loss.backward()\n",
        "        optimizer.step()\n",
        "\n",
        "        total_loss += loss.item()\n",
        "    accuracy = check_accuracy(model)\n",
        "    print(\"Accuracy after epoch {} is {}\".format(epoch, accuracy))\n",
        "    losses.append(total_loss)"
      ],
      "execution_count": null,
      "outputs": [
        {
          "output_type": "stream",
          "text": [
            "Accuracy after epoch 0 is 0.005804643714971977\n",
            "Accuracy after epoch 1 is 0.026621297037630103\n",
            "Accuracy after epoch 2 is 0.04643714971977582\n",
            "Accuracy after epoch 3 is 0.05604483586869496\n",
            "Accuracy after epoch 4 is 0.058246597277822255\n",
            "Accuracy after epoch 5 is 0.059247397918334666\n",
            "Accuracy after epoch 6 is 0.059647718174539635\n",
            "Accuracy after epoch 7 is 0.06104883907125701\n",
            "Accuracy after epoch 8 is 0.06164931945556445\n",
            "Accuracy after epoch 9 is 0.06345076060848678\n",
            "Accuracy after epoch 10 is 0.06505204163330665\n",
            "Accuracy after epoch 11 is 0.06765412329863892\n",
            "Accuracy after epoch 12 is 0.06905524419535629\n",
            "Accuracy after epoch 13 is 0.07045636509207366\n",
            "Accuracy after epoch 14 is 0.07185748598879103\n",
            "Accuracy after epoch 15 is 0.07385908726981585\n",
            "Accuracy after epoch 16 is 0.0754603682946357\n",
            "Accuracy after epoch 17 is 0.07686148919135308\n",
            "Accuracy after epoch 18 is 0.07826261008807045\n",
            "Accuracy after epoch 19 is 0.07966373098478784\n",
            "Accuracy after epoch 20 is 0.08146517213771017\n",
            "Accuracy after epoch 21 is 0.08226581265012009\n",
            "Accuracy after epoch 22 is 0.08366693354683746\n",
            "Accuracy after epoch 23 is 0.08486789431545236\n",
            "Accuracy after epoch 24 is 0.08606885508406725\n",
            "Accuracy after epoch 25 is 0.08706965572457967\n",
            "Accuracy after epoch 26 is 0.08746997598078463\n",
            "Accuracy after epoch 27 is 0.08827061649319455\n",
            "Accuracy after epoch 28 is 0.08847077662129704\n",
            "Accuracy after epoch 29 is 0.08967173738991192\n",
            "Accuracy after epoch 30 is 0.0900720576461169\n",
            "Accuracy after epoch 31 is 0.09067253803042434\n",
            "Accuracy after epoch 32 is 0.09187349879903924\n",
            "Accuracy after epoch 33 is 0.09147317854283427\n",
            "Accuracy after epoch 34 is 0.09147317854283427\n",
            "Accuracy after epoch 35 is 0.09287429943955164\n",
            "Accuracy after epoch 36 is 0.09367493995196156\n",
            "Accuracy after epoch 37 is 0.09407526020816653\n",
            "Accuracy after epoch 38 is 0.09607686148919135\n",
            "Accuracy after epoch 39 is 0.09627702161729383\n",
            "Accuracy after epoch 40 is 0.09647718174539632\n",
            "Accuracy after epoch 41 is 0.09647718174539632\n",
            "Accuracy after epoch 42 is 0.0976781425140112\n",
            "Accuracy after epoch 43 is 0.09807846277021617\n",
            "Accuracy after epoch 44 is 0.09827862289831865\n",
            "Accuracy after epoch 45 is 0.09907926341072858\n",
            "Accuracy after epoch 46 is 0.09947958366693355\n",
            "Accuracy after epoch 47 is 0.100080064051241\n",
            "Accuracy after epoch 48 is 0.10148118494795837\n",
            "Accuracy after epoch 49 is 0.10208166533226581\n",
            "Accuracy after epoch 50 is 0.10308246597277822\n",
            "Accuracy after epoch 51 is 0.10308246597277822\n",
            "Accuracy after epoch 52 is 0.10388310648518816\n",
            "Accuracy after epoch 53 is 0.10468374699759808\n",
            "Accuracy after epoch 54 is 0.10568454763811048\n",
            "Accuracy after epoch 55 is 0.10588470776621298\n",
            "Accuracy after epoch 56 is 0.10628502802241793\n",
            "Accuracy after epoch 57 is 0.10808646917534027\n",
            "Accuracy after epoch 58 is 0.10948759007205765\n",
            "Accuracy after epoch 59 is 0.11028823058446757\n",
            "Accuracy after epoch 60 is 0.1110888710968775\n",
            "Accuracy after epoch 61 is 0.11188951160928742\n",
            "Accuracy after epoch 62 is 0.11369095276220977\n",
            "Accuracy after epoch 63 is 0.11469175340272218\n",
            "Accuracy after epoch 64 is 0.11509207365892714\n",
            "Accuracy after epoch 65 is 0.11629303442754203\n",
            "Accuracy after epoch 66 is 0.11709367493995196\n",
            "Accuracy after epoch 67 is 0.11829463570856685\n",
            "Accuracy after epoch 68 is 0.11949559647718175\n",
            "Accuracy after epoch 69 is 0.11969575660528423\n",
            "Accuracy after epoch 70 is 0.1200960768614892\n",
            "Accuracy after epoch 71 is 0.12169735788630905\n",
            "Accuracy after epoch 72 is 0.12249799839871897\n",
            "Accuracy after epoch 73 is 0.12409927942353884\n",
            "Accuracy after epoch 74 is 0.1257005604483587\n",
            "Accuracy after epoch 75 is 0.12690152121697357\n",
            "Accuracy after epoch 76 is 0.1277021617293835\n",
            "Accuracy after epoch 77 is 0.12870296236989592\n",
            "Accuracy after epoch 78 is 0.12910328262610088\n",
            "Accuracy after epoch 79 is 0.1297037630104083\n",
            "Accuracy after epoch 80 is 0.13050440352281825\n",
            "Accuracy after epoch 81 is 0.1311048839071257\n",
            "Accuracy after epoch 82 is 0.13190552441953562\n",
            "Accuracy after epoch 83 is 0.13310648518815052\n",
            "Accuracy after epoch 84 is 0.13430744595676541\n",
            "Accuracy after epoch 85 is 0.13530824659727783\n",
            "Accuracy after epoch 86 is 0.13650920736589273\n",
            "Accuracy after epoch 87 is 0.13851080864691753\n",
            "Accuracy after epoch 88 is 0.1399119295436349\n",
            "Accuracy after epoch 89 is 0.14091273018414732\n",
            "Accuracy after epoch 90 is 0.14251401120896717\n",
            "Accuracy after epoch 91 is 0.1435148118494796\n",
            "Accuracy after epoch 92 is 0.1435148118494796\n",
            "Accuracy after epoch 93 is 0.14471577261809448\n",
            "Accuracy after epoch 94 is 0.1465172137710168\n",
            "Accuracy after epoch 95 is 0.14751801441152923\n",
            "Accuracy after epoch 96 is 0.14871897518014413\n",
            "Accuracy after epoch 97 is 0.1501200960768615\n",
            "Accuracy after epoch 98 is 0.1511208967173739\n",
            "Accuracy after epoch 99 is 0.15272217774219377\n",
            "Accuracy after epoch 100 is 0.15372297838270615\n",
            "Accuracy after epoch 101 is 0.1545236188951161\n",
            "Accuracy after epoch 102 is 0.1555244195356285\n",
            "Accuracy after epoch 103 is 0.15632506004803842\n",
            "Accuracy after epoch 104 is 0.15792634107285827\n",
            "Accuracy after epoch 105 is 0.1587269815852682\n",
            "Accuracy after epoch 106 is 0.15932746196957567\n",
            "Accuracy after epoch 107 is 0.16012810248198558\n",
            "Accuracy after epoch 108 is 0.1619295436349079\n",
            "Accuracy after epoch 109 is 0.1633306645316253\n",
            "Accuracy after epoch 110 is 0.16493194555644516\n",
            "Accuracy after epoch 111 is 0.16573258606885508\n",
            "Accuracy after epoch 112 is 0.16733386709367493\n",
            "Accuracy after epoch 113 is 0.1679343474779824\n",
            "Accuracy after epoch 114 is 0.16873498799039233\n",
            "Accuracy after epoch 115 is 0.1701361088871097\n",
            "Accuracy after epoch 116 is 0.17173738991192955\n",
            "Accuracy after epoch 117 is 0.17313851080864692\n",
            "Accuracy after epoch 118 is 0.17373899119295436\n",
            "Accuracy after epoch 119 is 0.17433947157726182\n",
            "Accuracy after epoch 120 is 0.1757405924739792\n",
            "Accuracy after epoch 121 is 0.17714171337069656\n",
            "Accuracy after epoch 122 is 0.17954363490792635\n",
            "Accuracy after epoch 123 is 0.18074459567654122\n",
            "Accuracy after epoch 124 is 0.18174539631705364\n",
            "Accuracy after epoch 125 is 0.18194555644515611\n",
            "Accuracy after epoch 126 is 0.18394715772618095\n",
            "Accuracy after epoch 127 is 0.18534827862289832\n",
            "Accuracy after epoch 128 is 0.1867493995196157\n",
            "Accuracy after epoch 129 is 0.18815052041633307\n",
            "Accuracy after epoch 130 is 0.1899519615692554\n",
            "Accuracy after epoch 131 is 0.19175340272217775\n",
            "Accuracy after epoch 132 is 0.19375500400320256\n",
            "Accuracy after epoch 133 is 0.1953562850280224\n",
            "Accuracy after epoch 134 is 0.19795836669335468\n",
            "Accuracy after epoch 135 is 0.1999599679743795\n",
            "Accuracy after epoch 136 is 0.20176140912730184\n",
            "Accuracy after epoch 137 is 0.20356285028022417\n",
            "Accuracy after epoch 138 is 0.20596477181745396\n",
            "Accuracy after epoch 139 is 0.20636509207365894\n",
            "Accuracy after epoch 140 is 0.20696557245796637\n",
            "Accuracy after epoch 141 is 0.20716573258606885\n",
            "Accuracy after epoch 142 is 0.20856685348278622\n",
            "Accuracy after epoch 143 is 0.21076861489191354\n",
            "Accuracy after epoch 144 is 0.21297037630104082\n",
            "Accuracy after epoch 145 is 0.21397117694155324\n",
            "Accuracy after epoch 146 is 0.2155724579663731\n",
            "Accuracy after epoch 147 is 0.21717373899119297\n",
            "Accuracy after epoch 148 is 0.21837469975980783\n",
            "Accuracy after epoch 149 is 0.22037630104083267\n",
            "Accuracy after epoch 150 is 0.22297838270616493\n",
            "Accuracy after epoch 151 is 0.22457966373098479\n",
            "Accuracy after epoch 152 is 0.22578062449959968\n",
            "Accuracy after epoch 153 is 0.2277822257806245\n",
            "Accuracy after epoch 154 is 0.23018414731785428\n",
            "Accuracy after epoch 155 is 0.23138510808646917\n",
            "Accuracy after epoch 156 is 0.23398718975180144\n",
            "Accuracy after epoch 157 is 0.2353883106485188\n",
            "Accuracy after epoch 158 is 0.23759007205764612\n",
            "Accuracy after epoch 159 is 0.23959167333867093\n",
            "Accuracy after epoch 160 is 0.2409927942353883\n",
            "Accuracy after epoch 161 is 0.2421937550040032\n",
            "Accuracy after epoch 162 is 0.24379503602882305\n",
            "Accuracy after epoch 163 is 0.24479583666933546\n",
            "Accuracy after epoch 164 is 0.24539631705364293\n",
            "Accuracy after epoch 165 is 0.24719775820656525\n",
            "Accuracy after epoch 166 is 0.24979983987189752\n",
            "Accuracy after epoch 167 is 0.2510008006405124\n",
            "Accuracy after epoch 168 is 0.25260208166533227\n",
            "Accuracy after epoch 169 is 0.25360288230584466\n",
            "Accuracy after epoch 170 is 0.25420336269015215\n",
            "Accuracy after epoch 171 is 0.25600480384307445\n",
            "Accuracy after epoch 172 is 0.25720576461168937\n",
            "Accuracy after epoch 173 is 0.2588070456365092\n",
            "Accuracy after epoch 174 is 0.26140912730184146\n",
            "Accuracy after epoch 175 is 0.2634107285828663\n",
            "Accuracy after epoch 176 is 0.2656124899919936\n",
            "Accuracy after epoch 177 is 0.2668134507606085\n",
            "Accuracy after epoch 178 is 0.26861489191353083\n",
            "Accuracy after epoch 179 is 0.2696156925540432\n",
            "Accuracy after epoch 180 is 0.2704163330664532\n",
            "Accuracy after epoch 181 is 0.27181745396317053\n",
            "Accuracy after epoch 182 is 0.2742193755004003\n",
            "Accuracy after epoch 183 is 0.2760208166533227\n",
            "Accuracy after epoch 184 is 0.27842273819055247\n",
            "Accuracy after epoch 185 is 0.28162530024019217\n",
            "Accuracy after epoch 186 is 0.2844275420336269\n",
            "Accuracy after epoch 187 is 0.2856285028022418\n",
            "Accuracy after epoch 188 is 0.2888310648518815\n",
            "Accuracy after epoch 189 is 0.29043234587670136\n",
            "Accuracy after epoch 190 is 0.2924339471577262\n",
            "Accuracy after epoch 191 is 0.294835868694956\n",
            "Accuracy after epoch 192 is 0.29703763010408324\n",
            "Accuracy after epoch 193 is 0.2986389111289031\n",
            "Accuracy after epoch 194 is 0.3012409927942354\n",
            "Accuracy after epoch 195 is 0.3022417934347478\n",
            "Accuracy after epoch 196 is 0.3044435548438751\n",
            "Accuracy after epoch 197 is 0.30604483586869496\n",
            "Accuracy after epoch 198 is 0.3090472377902322\n",
            "Accuracy after epoch 199 is 0.3100480384307446\n",
            "Accuracy after epoch 200 is 0.31265012009607684\n",
            "Accuracy after epoch 201 is 0.3146517213771017\n",
            "Accuracy after epoch 202 is 0.31725380304243395\n",
            "Accuracy after epoch 203 is 0.31865492393915135\n",
            "Accuracy after epoch 204 is 0.3200560448358687\n",
            "Accuracy after epoch 205 is 0.32265812650120096\n",
            "Accuracy after epoch 206 is 0.3252602081665332\n",
            "Accuracy after epoch 207 is 0.327662129703763\n",
            "Accuracy after epoch 208 is 0.3302642113690953\n",
            "Accuracy after epoch 209 is 0.3324659727782226\n",
            "Accuracy after epoch 210 is 0.3366693354683747\n",
            "Accuracy after epoch 211 is 0.33947157726180943\n",
            "Accuracy after epoch 212 is 0.3418734987990392\n",
            "Accuracy after epoch 213 is 0.344275420336269\n",
            "Accuracy after epoch 214 is 0.34727782225780623\n",
            "Accuracy after epoch 215 is 0.3528823058446757\n",
            "Accuracy after epoch 216 is 0.3560848678943154\n",
            "Accuracy after epoch 217 is 0.3584867894315452\n",
            "Accuracy after epoch 218 is 0.36289031224979984\n",
            "Accuracy after epoch 219 is 0.36589271417133706\n",
            "Accuracy after epoch 220 is 0.3678943154523619\n",
            "Accuracy after epoch 221 is 0.37069655724579664\n",
            "Accuracy after epoch 222 is 0.3755004003202562\n",
            "Accuracy after epoch 223 is 0.37930344275420336\n",
            "Accuracy after epoch 224 is 0.383306645316253\n",
            "Accuracy after epoch 225 is 0.3859087269815853\n",
            "Accuracy after epoch 226 is 0.388310648518815\n",
            "Accuracy after epoch 227 is 0.3915132105684548\n",
            "Accuracy after epoch 228 is 0.3947157726180945\n",
            "Accuracy after epoch 229 is 0.3971176941553243\n",
            "Accuracy after epoch 230 is 0.40132105684547636\n",
            "Accuracy after epoch 231 is 0.4043234587670136\n",
            "Accuracy after epoch 232 is 0.4065252201761409\n",
            "Accuracy after epoch 233 is 0.41052842273819057\n",
            "Accuracy after epoch 234 is 0.41253002401921535\n",
            "Accuracy after epoch 235 is 0.41533226581265015\n",
            "Accuracy after epoch 236 is 0.4189351481184948\n",
            "Accuracy after epoch 237 is 0.4205364291433146\n",
            "Accuracy after epoch 238 is 0.42393915132105686\n",
            "Accuracy after epoch 239 is 0.4275420336269015\n",
            "Accuracy after epoch 240 is 0.43054443554843874\n",
            "Accuracy after epoch 241 is 0.4333466773418735\n",
            "Accuracy after epoch 242 is 0.4363490792634107\n",
            "Accuracy after epoch 243 is 0.438951160928743\n",
            "Accuracy after epoch 244 is 0.4409527622097678\n",
            "Accuracy after epoch 245 is 0.4441553242594075\n",
            "Accuracy after epoch 246 is 0.44715772618094474\n",
            "Accuracy after epoch 247 is 0.45076060848678945\n",
            "Accuracy after epoch 248 is 0.4533626901521217\n",
            "Accuracy after epoch 249 is 0.4567654123298639\n"
          ],
          "name": "stdout"
        }
      ]
    }
  ]
}