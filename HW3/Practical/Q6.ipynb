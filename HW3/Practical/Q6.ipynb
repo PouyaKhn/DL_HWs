{
  "nbformat": 4,
  "nbformat_minor": 0,
  "metadata": {
    "colab": {
      "name": "Q6.ipynb",
      "provenance": [],
      "collapsed_sections": []
    },
    "kernelspec": {
      "name": "python3",
      "display_name": "Python 3"
    },
    "language_info": {
      "name": "python"
    },
    "accelerator": "GPU",
    "widgets": {
      "application/vnd.jupyter.widget-state+json": {
        "f3fb95adfb6049a3a625515c366c0014": {
          "model_module": "@jupyter-widgets/controls",
          "model_name": "HBoxModel",
          "state": {
            "_view_name": "HBoxView",
            "_dom_classes": [],
            "_model_name": "HBoxModel",
            "_view_module": "@jupyter-widgets/controls",
            "_model_module_version": "1.5.0",
            "_view_count": null,
            "_view_module_version": "1.5.0",
            "box_style": "",
            "layout": "IPY_MODEL_250a7043f2954770b22793d9d32eeed3",
            "_model_module": "@jupyter-widgets/controls",
            "children": [
              "IPY_MODEL_0828f707e03144b08894841698f37704",
              "IPY_MODEL_1aa8cc324d474b5f8f6f8a6f2eaf0ee5"
            ]
          }
        },
        "250a7043f2954770b22793d9d32eeed3": {
          "model_module": "@jupyter-widgets/base",
          "model_name": "LayoutModel",
          "state": {
            "_view_name": "LayoutView",
            "grid_template_rows": null,
            "right": null,
            "justify_content": null,
            "_view_module": "@jupyter-widgets/base",
            "overflow": null,
            "_model_module_version": "1.2.0",
            "_view_count": null,
            "flex_flow": null,
            "width": null,
            "min_width": null,
            "border": null,
            "align_items": null,
            "bottom": null,
            "_model_module": "@jupyter-widgets/base",
            "top": null,
            "grid_column": null,
            "overflow_y": null,
            "overflow_x": null,
            "grid_auto_flow": null,
            "grid_area": null,
            "grid_template_columns": null,
            "flex": null,
            "_model_name": "LayoutModel",
            "justify_items": null,
            "grid_row": null,
            "max_height": null,
            "align_content": null,
            "visibility": null,
            "align_self": null,
            "height": null,
            "min_height": null,
            "padding": null,
            "grid_auto_rows": null,
            "grid_gap": null,
            "max_width": null,
            "order": null,
            "_view_module_version": "1.2.0",
            "grid_template_areas": null,
            "object_position": null,
            "object_fit": null,
            "grid_auto_columns": null,
            "margin": null,
            "display": null,
            "left": null
          }
        },
        "0828f707e03144b08894841698f37704": {
          "model_module": "@jupyter-widgets/controls",
          "model_name": "FloatProgressModel",
          "state": {
            "_view_name": "ProgressView",
            "style": "IPY_MODEL_45306c2604564b77b969b75538a499a4",
            "_dom_classes": [],
            "description": "100%",
            "_model_name": "FloatProgressModel",
            "bar_style": "success",
            "max": 14,
            "_view_module": "@jupyter-widgets/controls",
            "_model_module_version": "1.5.0",
            "value": 14,
            "_view_count": null,
            "_view_module_version": "1.5.0",
            "orientation": "horizontal",
            "min": 0,
            "description_tooltip": null,
            "_model_module": "@jupyter-widgets/controls",
            "layout": "IPY_MODEL_83356ee3fd2d4032b916400833aeded4"
          }
        },
        "1aa8cc324d474b5f8f6f8a6f2eaf0ee5": {
          "model_module": "@jupyter-widgets/controls",
          "model_name": "HTMLModel",
          "state": {
            "_view_name": "HTMLView",
            "style": "IPY_MODEL_0e2a0253bb734ce18be1396d226b8a44",
            "_dom_classes": [],
            "description": "",
            "_model_name": "HTMLModel",
            "placeholder": "​",
            "_view_module": "@jupyter-widgets/controls",
            "_model_module_version": "1.5.0",
            "value": " 14/14 [02:19&lt;00:00,  9.98s/it]",
            "_view_count": null,
            "_view_module_version": "1.5.0",
            "description_tooltip": null,
            "_model_module": "@jupyter-widgets/controls",
            "layout": "IPY_MODEL_cb7a6a79998c48579bb348a256f47d11"
          }
        },
        "45306c2604564b77b969b75538a499a4": {
          "model_module": "@jupyter-widgets/controls",
          "model_name": "ProgressStyleModel",
          "state": {
            "_view_name": "StyleView",
            "_model_name": "ProgressStyleModel",
            "description_width": "initial",
            "_view_module": "@jupyter-widgets/base",
            "_model_module_version": "1.5.0",
            "_view_count": null,
            "_view_module_version": "1.2.0",
            "bar_color": null,
            "_model_module": "@jupyter-widgets/controls"
          }
        },
        "83356ee3fd2d4032b916400833aeded4": {
          "model_module": "@jupyter-widgets/base",
          "model_name": "LayoutModel",
          "state": {
            "_view_name": "LayoutView",
            "grid_template_rows": null,
            "right": null,
            "justify_content": null,
            "_view_module": "@jupyter-widgets/base",
            "overflow": null,
            "_model_module_version": "1.2.0",
            "_view_count": null,
            "flex_flow": null,
            "width": null,
            "min_width": null,
            "border": null,
            "align_items": null,
            "bottom": null,
            "_model_module": "@jupyter-widgets/base",
            "top": null,
            "grid_column": null,
            "overflow_y": null,
            "overflow_x": null,
            "grid_auto_flow": null,
            "grid_area": null,
            "grid_template_columns": null,
            "flex": null,
            "_model_name": "LayoutModel",
            "justify_items": null,
            "grid_row": null,
            "max_height": null,
            "align_content": null,
            "visibility": null,
            "align_self": null,
            "height": null,
            "min_height": null,
            "padding": null,
            "grid_auto_rows": null,
            "grid_gap": null,
            "max_width": null,
            "order": null,
            "_view_module_version": "1.2.0",
            "grid_template_areas": null,
            "object_position": null,
            "object_fit": null,
            "grid_auto_columns": null,
            "margin": null,
            "display": null,
            "left": null
          }
        },
        "0e2a0253bb734ce18be1396d226b8a44": {
          "model_module": "@jupyter-widgets/controls",
          "model_name": "DescriptionStyleModel",
          "state": {
            "_view_name": "StyleView",
            "_model_name": "DescriptionStyleModel",
            "description_width": "",
            "_view_module": "@jupyter-widgets/base",
            "_model_module_version": "1.5.0",
            "_view_count": null,
            "_view_module_version": "1.2.0",
            "_model_module": "@jupyter-widgets/controls"
          }
        },
        "cb7a6a79998c48579bb348a256f47d11": {
          "model_module": "@jupyter-widgets/base",
          "model_name": "LayoutModel",
          "state": {
            "_view_name": "LayoutView",
            "grid_template_rows": null,
            "right": null,
            "justify_content": null,
            "_view_module": "@jupyter-widgets/base",
            "overflow": null,
            "_model_module_version": "1.2.0",
            "_view_count": null,
            "flex_flow": null,
            "width": null,
            "min_width": null,
            "border": null,
            "align_items": null,
            "bottom": null,
            "_model_module": "@jupyter-widgets/base",
            "top": null,
            "grid_column": null,
            "overflow_y": null,
            "overflow_x": null,
            "grid_auto_flow": null,
            "grid_area": null,
            "grid_template_columns": null,
            "flex": null,
            "_model_name": "LayoutModel",
            "justify_items": null,
            "grid_row": null,
            "max_height": null,
            "align_content": null,
            "visibility": null,
            "align_self": null,
            "height": null,
            "min_height": null,
            "padding": null,
            "grid_auto_rows": null,
            "grid_gap": null,
            "max_width": null,
            "order": null,
            "_view_module_version": "1.2.0",
            "grid_template_areas": null,
            "object_position": null,
            "object_fit": null,
            "grid_auto_columns": null,
            "margin": null,
            "display": null,
            "left": null
          }
        }
      }
    }
  },
  "cells": [
    {
      "cell_type": "markdown",
      "metadata": {
        "id": "XRWm-ewNX6Fe"
      },
      "source": [
        "importing essential libraries"
      ]
    },
    {
      "cell_type": "code",
      "metadata": {
        "id": "-wbrE30oINAs"
      },
      "source": [
        "import torch\n",
        "import torch.nn as nn\n",
        "from torch.utils.data import TensorDataset, DataLoader\n",
        "import os\n",
        "import time\n",
        "import matplotlib.pyplot as plt\n",
        "from tqdm import tqdm_notebook\n",
        "from sklearn.preprocessing import MinMaxScaler\n",
        "import numpy as np\n",
        "import pandas as pd"
      ],
      "execution_count": 1,
      "outputs": []
    },
    {
      "cell_type": "markdown",
      "metadata": {
        "id": "GtjIh_zYX-Rv"
      },
      "source": [
        "define dataset directory"
      ]
    },
    {
      "cell_type": "code",
      "metadata": {
        "id": "5-Ju9SXDIse4"
      },
      "source": [
        "data_dir = \"/content/\""
      ],
      "execution_count": 2,
      "outputs": []
    },
    {
      "cell_type": "markdown",
      "metadata": {
        "id": "8kTS7FUFYD-I"
      },
      "source": [
        "preprocess phase(import dataset files only,convert times and days and... to good form for training,convert categorical types to numerical,define lookback datas and targets,split data to training and test and validation sets)"
      ]
    },
    {
      "cell_type": "code",
      "metadata": {
        "colab": {
          "base_uri": "https://localhost:8080/",
          "height": 116,
          "referenced_widgets": [
            "f3fb95adfb6049a3a625515c366c0014",
            "250a7043f2954770b22793d9d32eeed3",
            "0828f707e03144b08894841698f37704",
            "1aa8cc324d474b5f8f6f8a6f2eaf0ee5",
            "45306c2604564b77b969b75538a499a4",
            "83356ee3fd2d4032b916400833aeded4",
            "0e2a0253bb734ce18be1396d226b8a44",
            "cb7a6a79998c48579bb348a256f47d11"
          ]
        },
        "id": "p77Scc46I67v",
        "outputId": "908c6616-9599-4d94-bd7d-eb84e4f7cf61"
      },
      "source": [
        "train_x = []\n",
        "label_scalers = {}\n",
        "test_x = {}\n",
        "test_y = {}\n",
        "\n",
        "for file in tqdm_notebook(os.listdir(data_dir)): \n",
        "    if file[-4:] != \".csv\" or file == \"pjm_hourly_est.csv\":\n",
        "        continue\n",
        "    df = pd.read_csv(data_dir + file, parse_dates=[0])\n",
        "    df['hour'] = df.apply(lambda x: x['Datetime'].hour,axis=1)\n",
        "    df['dayofweek'] = df.apply(lambda x: x['Datetime'].dayofweek,axis=1)\n",
        "    df['month'] = df.apply(lambda x: x['Datetime'].month,axis=1)\n",
        "    df['dayofyear'] = df.apply(lambda x: x['Datetime'].dayofyear,axis=1)\n",
        "    df = df.sort_values(\"Datetime\").drop(\"Datetime\",axis=1)\n",
        "    sc = MinMaxScaler()\n",
        "    label_sc = MinMaxScaler()\n",
        "    data = sc.fit_transform(df.values)\n",
        "    label_sc.fit(df.iloc[:,0].values.reshape(-1,1))\n",
        "    label_scalers[file] = label_sc\n",
        "    lookback = 90\n",
        "    inputs = np.zeros((len(data)-lookback,lookback,df.shape[1]))\n",
        "    labels = np.zeros(len(data)-lookback)\n",
        "    for i in range(lookback, len(data)):\n",
        "        inputs[i-lookback] = data[i-lookback:i]\n",
        "        labels[i-lookback] = data[i,0]\n",
        "    inputs = inputs.reshape(-1,lookback,df.shape[1])\n",
        "    labels = labels.reshape(-1,1)\n",
        "    test_portion = int(0.1*len(inputs))\n",
        "    if len(train_x) == 0:\n",
        "        train_x = inputs[:-test_portion]\n",
        "        train_y = labels[:-test_portion]\n",
        "    else:\n",
        "        train_x = np.concatenate((train_x,inputs[:-test_portion]))\n",
        "        train_y = np.concatenate((train_y,labels[:-test_portion]))\n",
        "    test_x[file] = (inputs[-test_portion:])\n",
        "    test_y[file] = (labels[-test_portion:])"
      ],
      "execution_count": 3,
      "outputs": [
        {
          "output_type": "stream",
          "text": [
            "/usr/local/lib/python3.7/dist-packages/ipykernel_launcher.py:6: TqdmDeprecationWarning: This function will be removed in tqdm==5.0.0\n",
            "Please use `tqdm.notebook.tqdm` instead of `tqdm.tqdm_notebook`\n",
            "  \n"
          ],
          "name": "stderr"
        },
        {
          "output_type": "display_data",
          "data": {
            "application/vnd.jupyter.widget-view+json": {
              "model_id": "f3fb95adfb6049a3a625515c366c0014",
              "version_minor": 0,
              "version_major": 2
            },
            "text/plain": [
              "HBox(children=(FloatProgress(value=0.0, max=14.0), HTML(value='')))"
            ]
          },
          "metadata": {
            "tags": []
          }
        },
        {
          "output_type": "stream",
          "text": [
            "\n"
          ],
          "name": "stdout"
        }
      ]
    },
    {
      "cell_type": "code",
      "metadata": {
        "id": "qj2rjgu4jHL-"
      },
      "source": [
        "is_cuda = torch.cuda.is_available()\n",
        "\n",
        "if is_cuda:\n",
        "    device = torch.device(\"cuda\")\n",
        "else:\n",
        "    device = torch.device(\"cpu\")"
      ],
      "execution_count": 8,
      "outputs": []
    },
    {
      "cell_type": "markdown",
      "metadata": {
        "id": "POM4gDjxZatG"
      },
      "source": [
        "define batch size for data loader"
      ]
    },
    {
      "cell_type": "code",
      "metadata": {
        "id": "Ka7U_7_3I-22"
      },
      "source": [
        "batch_size = 1024\n",
        "train_data = TensorDataset(torch.from_numpy(train_x), torch.from_numpy(train_y))\n",
        "train_loader = DataLoader(train_data, shuffle=True, batch_size=batch_size, drop_last=True)"
      ],
      "execution_count": 4,
      "outputs": []
    },
    {
      "cell_type": "markdown",
      "metadata": {
        "id": "-XUOthIIZjrp"
      },
      "source": [
        "implement GRU and LSTM models as definition"
      ]
    },
    {
      "cell_type": "code",
      "metadata": {
        "id": "_Upax2xrJDHy"
      },
      "source": [
        "class LSTMNet(nn.Module):\n",
        "    def __init__(self, input_dim, hidden_dim, output_dim, n_layers, drop_prob=0.2):\n",
        "        super(LSTMNet, self).__init__()\n",
        "        self.hidden_dim = hidden_dim\n",
        "        self.n_layers = n_layers\n",
        "        \n",
        "        self.lstm = nn.LSTM(input_dim, hidden_dim, n_layers, batch_first=True, dropout=drop_prob)\n",
        "        self.fc = nn.Linear(hidden_dim, output_dim)\n",
        "        self.relu = nn.ReLU()\n",
        "        \n",
        "    def forward(self, x, h):\n",
        "        out, h = self.lstm(x, h)\n",
        "        out = self.fc(self.relu(out[:,-1]))\n",
        "        return out, h\n",
        "    \n",
        "    def init_hidden(self, batch_size):\n",
        "        weight = next(self.parameters()).data\n",
        "        hidden = (weight.new(self.n_layers, batch_size, self.hidden_dim).zero_().to(device),\n",
        "                  weight.new(self.n_layers, batch_size, self.hidden_dim).zero_().to(device))\n",
        "        return hidden\n",
        "\n",
        "class GRUNet(nn.Module):\n",
        "    def __init__(self, input_dim, hidden_dim, output_dim, n_layers, drop_prob=0.2):\n",
        "        super(GRUNet, self).__init__()\n",
        "        self.hidden_dim = hidden_dim\n",
        "        self.n_layers = n_layers\n",
        "        \n",
        "        self.gru = nn.GRU(input_dim, hidden_dim, n_layers, batch_first=True, dropout=drop_prob)\n",
        "        self.fc = nn.Linear(hidden_dim, output_dim)\n",
        "        self.relu = nn.ReLU()\n",
        "        \n",
        "    def forward(self, x, h):\n",
        "        out, h = self.gru(x, h)\n",
        "        out = self.fc(self.relu(out[:,-1]))\n",
        "        return out, h\n",
        "    \n",
        "    def init_hidden(self, batch_size):\n",
        "        weight = next(self.parameters()).data\n",
        "        hidden = weight.new(self.n_layers, batch_size, self.hidden_dim).zero_().to(device)\n",
        "        return hidden"
      ],
      "execution_count": 5,
      "outputs": []
    },
    {
      "cell_type": "markdown",
      "metadata": {
        "id": "0JAp9hUGZqW1"
      },
      "source": [
        "training phase and validation phase implementation"
      ]
    },
    {
      "cell_type": "code",
      "metadata": {
        "id": "H8c8ANVBJFQj"
      },
      "source": [
        "def train(train_loader, learn_rate, hidden_dim=256, EPOCHS=5, model_type=\"GRU\"):\n",
        "\n",
        "    input_dim = next(iter(train_loader))[0].shape[2]\n",
        "    output_dim = 1\n",
        "    n_layers = 2\n",
        "\n",
        "    if model_type == \"GRU\":\n",
        "        model = GRUNet(input_dim, hidden_dim, output_dim, n_layers)\n",
        "    else:\n",
        "        model = LSTMNet(input_dim, hidden_dim, output_dim, n_layers)\n",
        "    model.to(device)\n",
        "    \n",
        "\n",
        "    criterion = nn.MSELoss()\n",
        "    optimizer = torch.optim.Adam(model.parameters(), lr=learn_rate)\n",
        "    \n",
        "    model.train()\n",
        "    epoch_times = []\n",
        "\n",
        "    for epoch in range(1,EPOCHS+1):\n",
        "        h = model.init_hidden(batch_size)\n",
        "        avg_loss = 0.\n",
        "        counter = 0\n",
        "        for x, label in train_loader:\n",
        "            counter += 1\n",
        "            if model_type == \"GRU\":\n",
        "                h = h.data\n",
        "            else:\n",
        "                h = tuple([e.data for e in h])\n",
        "            model.zero_grad()\n",
        "            \n",
        "            out, h = model(x.to(device).float(), h)\n",
        "            loss = criterion(out, label.to(device).float())\n",
        "            loss.backward()\n",
        "            optimizer.step()\n",
        "            avg_loss += loss.item()\n",
        "            if counter%200 == 0:\n",
        "                print(\"Epoch {}->Step: {}/{}->Loss:{}\".format(epoch, counter, len(train_loader), avg_loss/counter))\n",
        "        print(\"Total loss of Epoch {}: {}\".format(epoch, avg_loss/len(train_loader)))\n",
        "    return model\n",
        "\n",
        "def evaluate(model, test_x, test_y, label_scalers):\n",
        "    model.eval()\n",
        "    outputs = []\n",
        "    targets = []\n",
        "    for i in test_x.keys():\n",
        "        inp = torch.from_numpy(np.array(test_x[i]))\n",
        "        labs = torch.from_numpy(np.array(test_y[i]))\n",
        "        h = model.init_hidden(inp.shape[0])\n",
        "        out, h = model(inp.to(device).float(), h)\n",
        "        outputs.append(label_scalers[i].inverse_transform(out.cpu().detach().numpy()).reshape(-1))\n",
        "        targets.append(label_scalers[i].inverse_transform(labs.numpy()).reshape(-1))\n",
        "    sMAPE = 0\n",
        "    for i in range(len(outputs)):\n",
        "        sMAPE += np.mean(abs(outputs[i]-targets[i])/(targets[i]+outputs[i])/2)/len(outputs)\n",
        "    print(\"sMAPE: {}%\".format(sMAPE*100))\n",
        "    return outputs, targets, sMAPE"
      ],
      "execution_count": 6,
      "outputs": []
    },
    {
      "cell_type": "markdown",
      "metadata": {
        "id": "xiGX768mZvBf"
      },
      "source": [
        "training of gru model"
      ]
    },
    {
      "cell_type": "code",
      "metadata": {
        "colab": {
          "base_uri": "https://localhost:8080/"
        },
        "id": "8A9g6WGzJHkM",
        "outputId": "69711470-4678-44ff-f4d9-e2609c62ae87"
      },
      "source": [
        "lr = 0.001\n",
        "gru_model = train(train_loader, lr, model_type=\"GRU\")"
      ],
      "execution_count": 9,
      "outputs": [
        {
          "output_type": "stream",
          "text": [
            "Epoch 1->Step: 200/957->Loss:0.006595127508626319\n",
            "Epoch 1->Step: 400/957->Loss:0.0036584198223863496\n",
            "Epoch 1->Step: 600/957->Loss:0.002585865627139962\n",
            "Epoch 1->Step: 800/957->Loss:0.0020238211358810077\n",
            "Total loss of Epoch 1: 0.0017360321672092208\n",
            "Epoch 2->Step: 200/957->Loss:0.0002440962934633717\n",
            "Epoch 2->Step: 400/957->Loss:0.00022573266967810924\n",
            "Epoch 2->Step: 600/957->Loss:0.00021805849927962603\n",
            "Epoch 2->Step: 800/957->Loss:0.000209916765725211\n",
            "Total loss of Epoch 2: 0.00020373185523048476\n",
            "Epoch 3->Step: 200/957->Loss:0.0001684325710084522\n",
            "Epoch 3->Step: 400/957->Loss:0.0001625738492475648\n",
            "Epoch 3->Step: 600/957->Loss:0.00016063742824674895\n",
            "Epoch 3->Step: 800/957->Loss:0.00015741885869829275\n",
            "Total loss of Epoch 3: 0.00015405602091407577\n",
            "Epoch 4->Step: 200/957->Loss:0.00014117030990746572\n",
            "Epoch 4->Step: 400/957->Loss:0.00013999952452650177\n",
            "Epoch 4->Step: 600/957->Loss:0.00013685821410035714\n",
            "Epoch 4->Step: 800/957->Loss:0.00013452986723677896\n",
            "Total loss of Epoch 4: 0.00013233017188371836\n",
            "Epoch 5->Step: 200/957->Loss:0.0001205533870961517\n",
            "Epoch 5->Step: 400/957->Loss:0.00011834082113637123\n",
            "Epoch 5->Step: 600/957->Loss:0.00012126562317765396\n",
            "Epoch 5->Step: 800/957->Loss:0.00011955949538787536\n",
            "Total loss of Epoch 5: 0.00011770111586551387\n"
          ],
          "name": "stdout"
        }
      ]
    },
    {
      "cell_type": "markdown",
      "metadata": {
        "id": "GEw5dvlGZ0f7"
      },
      "source": [
        "training on lstm model"
      ]
    },
    {
      "cell_type": "code",
      "metadata": {
        "colab": {
          "base_uri": "https://localhost:8080/"
        },
        "id": "KSMe-iw4JJTV",
        "outputId": "0e6162f4-2ffc-4854-ec8e-6438c784d67f"
      },
      "source": [
        "lstm_model = train(train_loader, lr, model_type=\"LSTM\")"
      ],
      "execution_count": 10,
      "outputs": [
        {
          "output_type": "stream",
          "text": [
            "Epoch 1->Step: 200/957->Loss:0.009703759750118479\n",
            "Epoch 1->Step: 400/957->Loss:0.005389839452545857\n",
            "Epoch 1->Step: 600/957->Loss:0.0037853442163517078\n",
            "Epoch 1->Step: 800/957->Loss:0.0029401929106461465\n",
            "Total loss of Epoch 1: 0.0025103034121121835\n",
            "Epoch 2->Step: 200/957->Loss:0.0002629104536754312\n",
            "Epoch 2->Step: 400/957->Loss:0.0002495861876013805\n",
            "Epoch 2->Step: 600/957->Loss:0.00023792092707784225\n",
            "Epoch 2->Step: 800/957->Loss:0.00022900081999978285\n",
            "Total loss of Epoch 2: 0.0002232372387684103\n",
            "Epoch 3->Step: 200/957->Loss:0.0001814520583866397\n",
            "Epoch 3->Step: 400/957->Loss:0.0001725716219516471\n",
            "Epoch 3->Step: 600/957->Loss:0.00016891898989949064\n",
            "Epoch 3->Step: 800/957->Loss:0.00016412728420618804\n",
            "Total loss of Epoch 3: 0.00016292249031796518\n",
            "Epoch 4->Step: 200/957->Loss:0.0001423116651494638\n",
            "Epoch 4->Step: 400/957->Loss:0.00013984118264488644\n",
            "Epoch 4->Step: 600/957->Loss:0.00013877452930804188\n",
            "Epoch 4->Step: 800/957->Loss:0.00013503593614586863\n",
            "Total loss of Epoch 4: 0.0001345652401318473\n",
            "Epoch 5->Step: 200/957->Loss:0.00012085989972547395\n",
            "Epoch 5->Step: 400/957->Loss:0.00011937324354221345\n",
            "Epoch 5->Step: 600/957->Loss:0.00011914441095238242\n",
            "Epoch 5->Step: 800/957->Loss:0.00011777075244026491\n",
            "Total loss of Epoch 5: 0.00011565375845126814\n"
          ],
          "name": "stdout"
        }
      ]
    },
    {
      "cell_type": "markdown",
      "metadata": {
        "id": "tPtJzmd8Z4-N"
      },
      "source": [
        "evaluation gru model"
      ]
    },
    {
      "cell_type": "code",
      "metadata": {
        "colab": {
          "base_uri": "https://localhost:8080/"
        },
        "id": "bff75VugJLQW",
        "outputId": "208e60a8-1c3c-41a1-d772-462c81d97618"
      },
      "source": [
        "gru_outputs, targets, gru_sMAPE = evaluate(gru_model, test_x, test_y, label_scalers)"
      ],
      "execution_count": 11,
      "outputs": [
        {
          "output_type": "stream",
          "text": [
            "sMAPE: 0.2580171390429557%\n"
          ],
          "name": "stdout"
        }
      ]
    },
    {
      "cell_type": "markdown",
      "metadata": {
        "id": "KfQmm3eVaF-L"
      },
      "source": [
        "evaluation lstm model"
      ]
    },
    {
      "cell_type": "markdown",
      "metadata": {
        "id": "nhO0vntXZ3iE"
      },
      "source": [
        ""
      ]
    },
    {
      "cell_type": "code",
      "metadata": {
        "colab": {
          "base_uri": "https://localhost:8080/"
        },
        "id": "DnZmoq9pJOcX",
        "outputId": "c1deec4b-9189-4db4-a95b-4332bcabe30e"
      },
      "source": [
        "lstm_outputs, targets, lstm_sMAPE = evaluate(lstm_model, test_x, test_y, label_scalers)"
      ],
      "execution_count": 12,
      "outputs": [
        {
          "output_type": "stream",
          "text": [
            "sMAPE: 0.2453821563931586%\n"
          ],
          "name": "stdout"
        }
      ]
    },
    {
      "cell_type": "markdown",
      "metadata": {
        "id": "jmBCV3i8aJCV"
      },
      "source": [
        "plot results"
      ]
    },
    {
      "cell_type": "code",
      "metadata": {
        "colab": {
          "base_uri": "https://localhost:8080/",
          "height": 592
        },
        "id": "Jap1mRdkJQgD",
        "outputId": "e68afe31-ad97-432d-e7d0-055fd3f6aff1"
      },
      "source": [
        "plt.figure(figsize=(14,10))\n",
        "plt.subplot(2,2,1)\n",
        "plt.plot(gru_outputs[0][-100:], \"-o\", color=\"r\", label=\"Predicted value\")\n",
        "plt.plot(targets[0][-100:], color=\"b\", label=\"original value\")\n",
        "plt.ylabel('Energy Consumption')\n",
        "plt.legend()\n",
        "plt.subplot(2,2,2)\n",
        "plt.plot(gru_outputs[8][-50:], \"-o\", color=\"r\", label=\"Predicted value\")\n",
        "plt.plot(targets[8][-50:], color=\"b\", label=\"original value\")\n",
        "plt.ylabel('Energy Consumption')\n",
        "plt.legend()\n",
        "plt.subplot(2,2,3)\n",
        "plt.plot(gru_outputs[4][:50], \"-o\", color=\"r\", label=\"Predicted value\")\n",
        "plt.plot(targets[4][:50], color=\"b\", label=\"original value\")\n",
        "plt.ylabel('Energy Consumption')\n",
        "plt.legend()\n",
        "plt.subplot(2,2,4)\n",
        "plt.plot(lstm_outputs[6][:100], \"-o\", color=\"r\", label=\"Predicted value\")\n",
        "plt.plot(targets[6][:100], color=\"b\", label=\"original value\")\n",
        "plt.ylabel('Energy Consumption')\n",
        "plt.legend()\n",
        "plt.show()"
      ],
      "execution_count": 13,
      "outputs": [
        {
          "output_type": "display_data",
          "data": {
            "image/png": "[encoded data removed]",
            "text/plain": [
              "<Figure size 1008x720 with 4 Axes>"
            ]
          },
          "metadata": {
            "tags": [],
            "needs_background": "light"
          }
        }
      ]
    }
  ]
}