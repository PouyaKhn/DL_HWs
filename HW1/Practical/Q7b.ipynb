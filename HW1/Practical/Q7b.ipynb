{
 "cells": [
  {
   "cell_type": "markdown",
   "metadata": {
    "id": "uVVeVEgumZLg"
   },
   "source": [
    "# CE-40959: Deep Learning\n",
    "## HW1\n",
    "## Q8\n",
    "#### Name: Pouya khani\n",
    "#### Student No.: 99210283"
   ]
  },
  {
   "cell_type": "code",
   "execution_count": 1,
   "metadata": {
    "id": "v5alOnjtlGfy"
   },
   "outputs": [],
   "source": [
    "import numpy as np\n",
    "import os\n",
    "import matplotlib.pyplot as plt\n",
    "import torch\n",
    "import torchvision\n",
    "import torchvision.transforms as transforms\n",
    "import torch.optim as optim\n",
    "import torch.nn as nn\n",
    "import torch.nn.functional as F"
   ]
  },
  {
   "cell_type": "markdown",
   "metadata": {
    "id": "WGj-LMuWmx2q"
   },
   "source": [
    "#### 3.1. Load Data:\n",
    "\n",
    "Complete the followed cell for data loading. \n",
    "In this cell you have to normalize, split and shuffle data for learning."
   ]
  },
  {
   "cell_type": "code",
   "execution_count": 2,
   "metadata": {
    "id": "kgv51um_lJiL"
   },
   "outputs": [
    {
     "name": "stdout",
     "output_type": "stream",
     "text": [
      "Downloading http://fashion-mnist.s3-website.eu-central-1.amazonaws.com/train-images-idx3-ubyte.gz to ./data\\FashionMNIST\\raw\\train-images-idx3-ubyte.gz\n"
     ]
    },
    {
     "name": "stderr",
     "output_type": "stream",
     "text": [
      "100.0%"
     ]
    },
    {
     "name": "stdout",
     "output_type": "stream",
     "text": [
      "Extracting ./data\\FashionMNIST\\raw\\train-images-idx3-ubyte.gz to ./data\\FashionMNIST\\raw\n",
      "Downloading http://fashion-mnist.s3-website.eu-central-1.amazonaws.com/train-labels-idx1-ubyte.gz to ./data\\FashionMNIST\\raw\\train-labels-idx1-ubyte.gz\n"
     ]
    },
    {
     "name": "stderr",
     "output_type": "stream",
     "text": [
      "111.0%"
     ]
    },
    {
     "name": "stdout",
     "output_type": "stream",
     "text": [
      "Extracting ./data\\FashionMNIST\\raw\\train-labels-idx1-ubyte.gz to ./data\\FashionMNIST\\raw\n",
      "Downloading http://fashion-mnist.s3-website.eu-central-1.amazonaws.com/t10k-images-idx3-ubyte.gz to ./data\\FashionMNIST\\raw\\t10k-images-idx3-ubyte.gz\n"
     ]
    },
    {
     "name": "stderr",
     "output_type": "stream",
     "text": [
      "100.0%"
     ]
    },
    {
     "name": "stdout",
     "output_type": "stream",
     "text": [
      "Extracting ./data\\FashionMNIST\\raw\\t10k-images-idx3-ubyte.gz to ./data\\FashionMNIST\\raw\n",
      "Downloading http://fashion-mnist.s3-website.eu-central-1.amazonaws.com/t10k-labels-idx1-ubyte.gz to ./data\\FashionMNIST\\raw\\t10k-labels-idx1-ubyte.gz\n"
     ]
    },
    {
     "name": "stderr",
     "output_type": "stream",
     "text": [
      "159.1%c:\\users\\pouya\\appdata\\local\\programs\\python\\python38\\lib\\site-packages\\torchvision\\datasets\\mnist.py:480: UserWarning: The given NumPy array is not writeable, and PyTorch does not support non-writeable tensors. This means you can write to the underlying (supposedly non-writeable) NumPy array using the tensor. You may want to copy the array to protect its data or make it writeable before converting it to a tensor. This type of warning will be suppressed for the rest of this program. (Triggered internally at  ..\\torch\\csrc\\utils\\tensor_numpy.cpp:141.)\n",
      "  return torch.from_numpy(parsed.astype(m[2], copy=False)).view(*s)\n"
     ]
    },
    {
     "name": "stdout",
     "output_type": "stream",
     "text": [
      "Extracting ./data\\FashionMNIST\\raw\\t10k-labels-idx1-ubyte.gz to ./data\\FashionMNIST\\raw\n",
      "Processing...\n",
      "Done!\n"
     ]
    }
   ],
   "source": [
    "if torch.cuda.is_available():\n",
    "    device = torch.device('cuda')\n",
    "else:\n",
    "    device = torch.device('cpu')\n",
    "    \n",
    "    \n",
    "batch_size_train = 4\n",
    "batch_size_test =  4\n",
    "\n",
    "transform = transforms.Compose(\n",
    "    [transforms.ToTensor(),\n",
    "     transforms.Normalize(0.5, 0.5)])\n",
    "\n",
    "train_dataset = torchvision.datasets.FashionMNIST('./data',train=True,download=True,\n",
    "                                                  transform=transform)\n",
    "\n",
    "test_dataset = torchvision.datasets.FashionMNIST('./data',train=False,download=True,\n",
    "                                                 transform=transform)\n",
    "\n",
    "train_subset, val_subset = torch.utils.data.random_split(train_dataset,[50000, 10000], \n",
    "                                                         generator=torch.Generator()\n",
    "                                                         .manual_seed(1))\n",
    "\n",
    "trainloader = torch.utils.data.DataLoader(dataset=train_subset, shuffle=True, \n",
    "                                          batch_size=batch_size_train)\n",
    "validationloader = torch.utils.data.DataLoader(dataset=val_subset, shuffle=False, \n",
    "                                               batch_size=batch_size_test)\n",
    "testloader = torch.utils.data.DataLoader(dataset=test_dataset,batch_size=batch_size_test,\n",
    "                                                             shuffle=False)\n",
    "\n",
    "classes = ('T-shirt/top', 'Trouser', 'Pullover', 'Dress', 'Coat', 'Sandal', 'Shirt', 'Sneaker', 'Bag', 'Ankle boot')"
   ]
  },
  {
   "cell_type": "markdown",
   "metadata": {
    "id": "wdLQ8BpxEoZ-"
   },
   "source": [
    "#### 3.2. Load Data Test:"
   ]
  },
  {
   "cell_type": "code",
   "execution_count": 3,
   "metadata": {
    "id": "eaOeLN3klZ9F",
    "pycharm": {
     "is_executing": true
    }
   },
   "outputs": [
    {
     "name": "stdout",
     "output_type": "stream",
     "text": [
      "The size and type of each batch in trainloader is:\n",
      "torch.Size([4, 1, 28, 28])\n",
      "<class 'torch.Tensor'>\n",
      "\n",
      "The size and type of each batch in testloader is:\n",
      "torch.Size([4, 1, 28, 28])\n",
      "<class 'torch.Tensor'>\n"
     ]
    }
   ],
   "source": [
    "examples = enumerate(trainloader)\n",
    "batch_idx, (example_data, example_targets) = next(examples)\n",
    "print('The size and type of each batch in ''trainloader'' is:')\n",
    "print(example_data.size())\n",
    "print(type(example_data))\n",
    "examples = enumerate(testloader)\n",
    "batch_idx, (example_data, example_targets) = next(examples)\n",
    "print('\\nThe size and type of each batch in ''testloader'' is:')\n",
    "print(example_data.size())\n",
    "print(type(example_data))"
   ]
  },
  {
   "cell_type": "code",
   "execution_count": 4,
   "metadata": {
    "id": "cPMpTd230hLY",
    "pycharm": {
     "is_executing": true
    }
   },
   "outputs": [
    {
     "data": {
      "image/png": "[encoded data removed]",
      "text/plain": [
       "<Figure size 432x288 with 1 Axes>"
      ]
     },
     "metadata": {
      "needs_background": "light"
     },
     "output_type": "display_data"
    },
    {
     "data": {
      "image/png": "[encoded data removed]",
      "text/plain": [
       "<Figure size 432x288 with 1 Axes>"
      ]
     },
     "metadata": {
      "needs_background": "light"
     },
     "output_type": "display_data"
    },
    {
     "data": {
      "image/png": "[encoded data removed]",
      "text/plain": [
       "<Figure size 432x288 with 1 Axes>"
      ]
     },
     "metadata": {
      "needs_background": "light"
     },
     "output_type": "display_data"
    },
    {
     "data": {
      "image/png": "[encoded data removed]",
      "text/plain": [
       "<Figure size 432x288 with 1 Axes>"
      ]
     },
     "metadata": {
      "needs_background": "light"
     },
     "output_type": "display_data"
    }
   ],
   "source": [
    "dataiter = iter(trainloader)\n",
    "images, labels = dataiter.next()\n",
    "\n",
    "# show images:\n",
    "for i in range(4):\n",
    "    img=torchvision.utils.make_grid(images[i])\n",
    "    m=0.5\n",
    "    s=0.5\n",
    "    img = img*s + m    # unnormalize\n",
    "    npimg = img.numpy()\n",
    "    plt.imshow(np.transpose(npimg, (1,2, 0)))\n",
    "    plt.title(\"Target Labels: {}\".format(classes[labels[i]]))\n",
    "    plt.axis('off')\n",
    "    plt.show()\n",
    "    "
   ]
  },
  {
   "cell_type": "markdown",
   "metadata": {
    "id": "TKpijVi0E1Zm"
   },
   "source": [
    "#### 3.3. Network Design:\n",
    "Design the layer of your network and select proper hyperparameter. \n",
    "\n"
   ]
  },
  {
   "cell_type": "code",
   "execution_count": 5,
   "metadata": {
    "id": "V8nfR7jqxTBO",
    "pycharm": {
     "is_executing": true
    }
   },
   "outputs": [],
   "source": [
    "class MLP(nn.Module):\n",
    "    def __init__(self, hidden_dim=150, keep_prob = 0.2):\n",
    "        super(MLP, self).__init__()\n",
    "        self.fc1 = nn.Linear(28*28, hidden_dim)\n",
    "        self.fc1_drop = nn.Dropout(keep_prob)\n",
    "        self.fc3 = nn.Linear(hidden_dim, 10)\n",
    "\n",
    "    def forward(self, x):\n",
    "        x = x.view(-1, 28*28)\n",
    "        x = F.relu(self.fc1(x))\n",
    "        x = self.fc1_drop(x)\n",
    "        out = F.log_softmax(self.fc3(x), dim=1)\n",
    "        return out"
   ]
  },
  {
   "cell_type": "markdown",
   "metadata": {
    "id": "1dGyL8c8E-Rb"
   },
   "source": [
    "#### 3.4. Optimization Algorithm:"
   ]
  },
  {
   "cell_type": "code",
   "execution_count": 6,
   "metadata": {
    "id": "AXuefQ1GB7Ry",
    "pycharm": {
     "is_executing": true
    }
   },
   "outputs": [],
   "source": [
    "net = MLP()\n",
    "learning_rate = 0.01\n",
    "criterion = nn.CrossEntropyLoss()\n",
    "\n",
    "optimizer = torch.optim.SGD(net.parameters(), lr=learning_rate, momentum=0.5)"
   ]
  },
  {
   "cell_type": "markdown",
   "metadata": {
    "id": "3jL9GEnZFN-z"
   },
   "source": [
    "#### 3.5. Training:\n",
    "You have to tweak `hidden_dim`, `leanirng_rate`, `weight_scale`, `num_epochs` and `reg` and etc to get a validation accuracy above 50%."
   ]
  },
  {
   "cell_type": "code",
   "execution_count": 7,
   "metadata": {
    "id": "zJdyD46TZY0t",
    "pycharm": {
     "is_executing": true
    }
   },
   "outputs": [
    {
     "name": "stdout",
     "output_type": "stream",
     "text": [
      "[Batch 1250 / 12500] loss: 0.834\n",
      "[Batch 2500 / 12500] loss: 0.609\n",
      "[Batch 3750 / 12500] loss: 0.583\n",
      "[Batch 5000 / 12500] loss: 0.530\n",
      "[Batch 6250 / 12500] loss: 0.505\n",
      "[Batch 7500 / 12500] loss: 0.523\n",
      "[Batch 8750 / 12500] loss: 0.480\n",
      "[Batch 10000 / 12500] loss: 0.497\n",
      "[Batch 11250 / 12500] loss: 0.494\n",
      "[Batch 12500 / 12500] loss: 0.481\n",
      "(Epoch 1 / 2) train acc: 79.70%; val_acc: 82.37%\n",
      "[Batch 1250 / 12500] loss: 0.476\n",
      "[Batch 2500 / 12500] loss: 0.474\n",
      "[Batch 3750 / 12500] loss: 0.435\n",
      "[Batch 5000 / 12500] loss: 0.423\n",
      "[Batch 6250 / 12500] loss: 0.455\n",
      "[Batch 7500 / 12500] loss: 0.446\n",
      "[Batch 8750 / 12500] loss: 0.427\n",
      "[Batch 10000 / 12500] loss: 0.443\n",
      "[Batch 11250 / 12500] loss: 0.439\n",
      "[Batch 12500 / 12500] loss: 0.448\n",
      "(Epoch 2 / 2) train acc: 83.95%; val_acc: 84.99%\n"
     ]
    }
   ],
   "source": [
    "num_epochs=2\n",
    "num_batchs = len(trainloader)\n",
    "for epoch in range(num_epochs):\n",
    "    total_train=0\n",
    "    correct_train=0\n",
    "    running_loss = 0.0\n",
    "    for batch, data in enumerate(trainloader, 0):\n",
    "        inputs, labels = data\n",
    "        # zero the parameter gradients:\n",
    "        optimizer.zero_grad()\n",
    "\n",
    "        # forward pass:\n",
    "        outputs = net(inputs)\n",
    "\n",
    "        # backward pass:\n",
    "        loss = criterion(outputs, labels)\n",
    "        loss.backward()\n",
    "\n",
    "        # optimization:\n",
    "        optimizer.step()\n",
    "\n",
    "        # Results: \n",
    "        running_loss += loss.item()\n",
    "\n",
    "        total_train += labels.size(0)\n",
    "        _, predicted_train = torch.max(outputs.data, 1)\n",
    "        correct_train += (predicted_train == labels.to(device)).sum().item()\n",
    "\n",
    "        if batch % (num_batchs/10) == ((num_batchs/10) -1):\n",
    "            print('[Batch %d / %d] loss: %.3f' %\n",
    "                  (batch + 1, num_batchs, running_loss / (num_batchs/10)))\n",
    "            running_loss = 0.0\n",
    "            torch.save(net.state_dict(), './model.pth')\n",
    "            torch.save(optimizer.state_dict(), './optimizer.pth')\n",
    "    correct = 0\n",
    "    total = 0\n",
    "    with torch.no_grad():\n",
    "        for data in validationloader:\n",
    "            images, labels = data\n",
    "            outputs = net(images.to(device))\n",
    "            _, predicted = torch.max(outputs.data, 1)\n",
    "            total += labels.size(0)\n",
    "            correct += (predicted == labels.to(device)).sum().item()\n",
    "    val_acc = correct / total\n",
    "    train_acc = correct_train / total_train\n",
    "    print('(Epoch %d / %d) train acc: %.2f%%; val_acc: %.2f%%' % (\n",
    "          epoch+1, num_epochs, 100*train_acc, 100*val_acc))"
   ]
  },
  {
   "cell_type": "markdown",
   "metadata": {
    "id": "pLES_37SM6_N"
   },
   "source": [
    "#### 3.6. Test: \n",
    "Run the following cell and test your network."
   ]
  },
  {
   "cell_type": "code",
   "execution_count": 8,
   "metadata": {
    "id": "lw4zW0GPM6cR",
    "pycharm": {
     "is_executing": true
    }
   },
   "outputs": [
    {
     "name": "stdout",
     "output_type": "stream",
     "text": [
      "Accuracy of the network on the test images: 84.060000 %\n"
     ]
    }
   ],
   "source": [
    "correct = 0\n",
    "total = 0\n",
    "with torch.no_grad():\n",
    "    for data in testloader:\n",
    "        images, labels = data\n",
    "        outputs = net(images.to(device))\n",
    "        _, predicted = torch.max(outputs.data, 1)\n",
    "        total += labels.size(0)\n",
    "        correct += (predicted == labels.to(device)).sum().item()\n",
    "test_acc = correct / total\n",
    "print('Accuracy of the network on the test images: %2f %%' % (100 * test_acc ))"
   ]
  },
  {
   "cell_type": "code",
   "execution_count": 9,
   "metadata": {
    "id": "nrnQkpyENTrR",
    "pycharm": {
     "is_executing": true
    }
   },
   "outputs": [
    {
     "name": "stdout",
     "output_type": "stream",
     "text": [
      "Accuracy of T-shirt/top : 83 %\n",
      "Accuracy of Trouser : 96 %\n",
      "Accuracy of Pullover : 71 %\n",
      "Accuracy of Dress : 81 %\n",
      "Accuracy of  Coat : 75 %\n",
      "Accuracy of Sandal : 91 %\n",
      "Accuracy of Shirt : 62 %\n",
      "Accuracy of Sneaker : 89 %\n",
      "Accuracy of   Bag : 94 %\n",
      "Accuracy of Ankle boot : 93 %\n"
     ]
    }
   ],
   "source": [
    "class_correct = list(0. for i in range(10))\n",
    "class_total = list(0. for i in range(10))\n",
    "with torch.no_grad():\n",
    "    for data in testloader:\n",
    "        images, labels = data\n",
    "        outputs = net(images.to(device))\n",
    "        _, predicted = torch.max(outputs, 1)\n",
    "        c = (predicted == labels.to(device)).squeeze()\n",
    "        for i in range(4):\n",
    "            label = labels[i]\n",
    "            class_correct[label] += c[i].item()\n",
    "            class_total[label] += 1\n",
    "\n",
    "\n",
    "for i in range(10):\n",
    "    print('Accuracy of %5s : %2d %%' % (classes[i], 100 * class_correct[i] / class_total[i]))"
   ]
  }
 ],
 "metadata": {
  "accelerator": "GPU",
  "colab": {
   "collapsed_sections": [],
   "name": "HW1-Q8.ipynb",
   "provenance": []
  },
  "kernelspec": {
   "display_name": "Python 3",
   "language": "python",
   "name": "python3"
  },
  "language_info": {
   "codemirror_mode": {
    "name": "ipython",
    "version": 3
   },
   "file_extension": ".py",
   "mimetype": "text/x-python",
   "name": "python",
   "nbconvert_exporter": "python",
   "pygments_lexer": "ipython3",
   "version": "3.8.7"
  },
  "latex_envs": {
   "LaTeX_envs_menu_present": true,
   "autoclose": false,
   "autocomplete": true,
   "bibliofile": "biblio.bib",
   "cite_by": "apalike",
   "current_citInitial": 1,
   "eqLabelWithNumbers": true,
   "eqNumInitial": 1,
   "hotkeys": {
    "equation": "Ctrl-E",
    "itemize": "Ctrl-I"
   },
   "labels_anchors": false,
   "latex_user_defs": false,
   "report_style_numbering": false,
   "user_envs_cfg": false
  },
  "toc": {
   "base_numbering": 1,
   "nav_menu": {},
   "number_sections": true,
   "sideBar": true,
   "skip_h1_title": false,
   "title_cell": "Table of Contents",
   "title_sidebar": "Contents",
   "toc_cell": false,
   "toc_position": {},
   "toc_section_display": true,
   "toc_window_display": false
  },
  "varInspector": {
   "cols": {
    "lenName": 16,
    "lenType": 16,
    "lenVar": 40
   },
   "kernels_config": {
    "python": {
     "delete_cmd_postfix": "",
     "delete_cmd_prefix": "del ",
     "library": "var_list.py",
     "varRefreshCmd": "print(var_dic_list())"
    },
    "r": {
     "delete_cmd_postfix": ") ",
     "delete_cmd_prefix": "rm(",
     "library": "var_list.r",
     "varRefreshCmd": "cat(var_dic_list()) "
    }
   },
   "types_to_exclude": [
    "module",
    "function",
    "builtin_function_or_method",
    "instance",
    "_Feature"
   ],
   "window_display": false
  }
 },
 "nbformat": 4,
 "nbformat_minor": 1
}
