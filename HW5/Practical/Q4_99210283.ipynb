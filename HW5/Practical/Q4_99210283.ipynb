{
  "nbformat": 4,
  "nbformat_minor": 5,
  "metadata": {
    "kernelspec": {
      "display_name": "Python 3",
      "language": "python",
      "name": "python3"
    },
    "language_info": {
      "codemirror_mode": {
        "name": "ipython",
        "version": 3
      },
      "file_extension": ".py",
      "mimetype": "text/x-python",
      "name": "python",
      "nbconvert_exporter": "python",
      "pygments_lexer": "ipython3",
      "version": "3.7.10"
    },
    "colab": {
      "name": "S4.ipynb",
      "provenance": []
    }
  },
  "cells": [
    {
      "cell_type": "code",
      "metadata": {
        "id": "guilty-blackjack"
      },
      "source": [
        "import torch \n",
        "import torch.nn as nn\n",
        "import torch.optim as optim\n",
        "import numpy as np\n",
        "import copy\n",
        "import gym\n",
        "%matplotlib inline \n",
        "import matplotlib.pyplot as plt"
      ],
      "id": "guilty-blackjack",
      "execution_count": 23,
      "outputs": []
    },
    {
      "cell_type": "code",
      "metadata": {
        "id": "posted-service"
      },
      "source": [
        "env = gym.make(\"CartPole-v1\")\n",
        "input_dim = env.observation_space.shape[0]\n",
        "n_actions = env.action_space.n\n",
        "\n",
        "model =nn.Sequential(nn.Linear(input_dim,32),\n",
        "                     nn.ReLU(),\n",
        "                     nn.Linear(32,16),\n",
        "                     nn.ReLU(),\n",
        "                     nn.Linear(16,n_actions))\n",
        "model_target = copy.deepcopy(model)\n",
        "\n",
        "loss_fn = nn.MSELoss()\n",
        "\n",
        "Learning_rate = 1e-3\n",
        "optimizer = optim.Adam(model.parameters(),lr= Learning_rate)"
      ],
      "id": "posted-service",
      "execution_count": 24,
      "outputs": []
    },
    {
      "cell_type": "code",
      "metadata": {
        "id": "cheap-cancellation"
      },
      "source": [
        "def learning_phase(exprience_replay_buffer,target_update,minibatch_size = 32):\n",
        "    global model_target\n",
        "    minibatch = np.random.choice(exprience_replay_buffer, minibatch_size ,replace = True)\n",
        "    s = np.array(list(map(lambda x:x['s'] , minibatch)))\n",
        "    a = np.array(list(map(lambda x:x['a'] , minibatch)))\n",
        "    r = np.array(list(map(lambda x:x['r'] , minibatch)))\n",
        "\n",
        "    sprime = np.array(list(map(lambda x:x['sprime'] , minibatch)))\n",
        "    done = np.array(list(map(lambda x:x['done'] , minibatch)))\n",
        "    if target_update == True:\n",
        "        model_target = copy.deepcopy(model)\n",
        "\n",
        "    q_s = model(torch.tensor(s).float())\n",
        "    q_sprime = model_target(torch.tensor(sprime).float())\n",
        "    q_s_target = q_s.detach().clone()\n",
        "    \n",
        "    \n",
        "    for i,(s1,a1,r1,q_sprime1,done1) in enumerate(zip(s,a,r,q_sprime,done)):\n",
        "        if not done1: target = r1 + gamma * torch.max(q_sprime1)\n",
        "        else:target = r1\n",
        "        q_s_target[i][a1] = target\n",
        "            \n",
        "    optimizer.zero_grad()\n",
        "    loss = loss_fn(q_s , q_s_target)\n",
        "    loss.backward()\n",
        "    optimizer.step()\n",
        "            "
      ],
      "id": "cheap-cancellation",
      "execution_count": 25,
      "outputs": []
    },
    {
      "cell_type": "code",
      "metadata": {
        "colab": {
          "base_uri": "https://localhost:8080/"
        },
        "id": "animated-nightlife",
        "outputId": "5bfb4da7-f030-4920-e9a6-796025470fa9"
      },
      "source": [
        "r_sums = []\n",
        "replay_memory = []\n",
        "mem_max_size = 120000\n",
        "n_episodes = 1000\n",
        "gamma = 0.95\n",
        "epsilon = 1\n",
        "minibatch_size = 32\n",
        "for n in range(n_episodes):\n",
        "    s = env.reset()\n",
        "    done = False\n",
        "    r_sum = 0\n",
        "    flag = 1\n",
        "    while not done:\n",
        "        q_s = model(torch.tensor(s).float())\n",
        "        if np.random.random() < epsilon :\n",
        "            a = env.action_space.sample()\n",
        "        else:\n",
        "            a = np.argmax(q_s.detach().numpy())\n",
        "        sprime,r,done,info = env.step(a)\n",
        "        r_sum += r\n",
        "        if len(replay_memory) > mem_max_size:\n",
        "            replay_memory.pop(0)\n",
        "        replay_memory.append({\"s\":s,\"a\":a,\"r\":r,\"sprime\":sprime,\"done\":done})\n",
        "        s = sprime\n",
        "        if n%1 == 0 and flag == 1:\n",
        "            flag = 0 \n",
        "            target_update = True\n",
        "        else:\n",
        "            target_update = False   \n",
        "        learning_phase(replay_memory,target_update,minibatch_size = minibatch_size)\n",
        "    if epsilon > 0.1:\n",
        "        epsilon -= 0.001\n",
        "    r_sums.append(r_sum)\n",
        "    if ((n+1)%100)==0:\n",
        "      print(\"Episode %d: %f\" %(n+1 , r_sum))\n",
        "        "
      ],
      "id": "animated-nightlife",
      "execution_count": 27,
      "outputs": [
        {
          "output_type": "stream",
          "text": [
            "Episode 100: 33.000000\n",
            "Episode 200: 64.000000\n",
            "Episode 300: 66.000000\n",
            "Episode 400: 48.000000\n",
            "Episode 500: 89.000000\n",
            "Episode 600: 29.000000\n",
            "Episode 700: 26.000000\n",
            "Episode 800: 35.000000\n",
            "Episode 900: 112.000000\n",
            "Episode 1000: 143.000000\n"
          ],
          "name": "stdout"
        }
      ]
    },
    {
      "cell_type": "code",
      "metadata": {
        "colab": {
          "base_uri": "https://localhost:8080/",
          "height": 296
        },
        "id": "attractive-google",
        "outputId": "80e66abe-0224-4a32-8ede-308738ce00bf"
      },
      "source": [
        "avg = []\n",
        "temp = r_sums[0]\n",
        "j = 2\n",
        "for i in r_sums:\n",
        "    temp += i\n",
        "    avg.append(temp/j)\n",
        "    j+=1\n",
        "plt.plot(r_sums,color=\"red\")\n",
        "plt.plot(avg,color=\"black\")\n",
        "plt.xlabel(\"Episode #\")\n",
        "plt.ylabel(\"Reward value\")"
      ],
      "id": "attractive-google",
      "execution_count": 28,
      "outputs": [
        {
          "output_type": "execute_result",
          "data": {
            "text/plain": [
              "Text(0, 0.5, 'Reward value')"
            ]
          },
          "metadata": {
            "tags": []
          },
          "execution_count": 28
        },
        {
          "output_type": "display_data",
          "data": {
            "image/png": "[encoded data removed]",
            "text/plain": [
              "<Figure size 432x288 with 1 Axes>"
            ]
          },
          "metadata": {
            "tags": [],
            "needs_background": "light"
          }
        }
      ]
    }
  ]
}