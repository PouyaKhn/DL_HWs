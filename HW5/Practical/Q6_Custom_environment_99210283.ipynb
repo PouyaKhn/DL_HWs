{
  "nbformat": 4,
  "nbformat_minor": 0,
  "metadata": {
    "colab": {
      "name": "Untitled7.ipynb",
      "provenance": []
    },
    "kernelspec": {
      "name": "python3",
      "display_name": "Python 3"
    },
    "language_info": {
      "name": "python"
    }
  },
  "cells": [
    {
      "cell_type": "code",
      "metadata": {
        "id": "ViqHvfURzCoH"
      },
      "source": [
        "import numpy as np"
      ],
      "execution_count": 2,
      "outputs": []
    },
    {
      "cell_type": "code",
      "metadata": {
        "id": "TCY6qDbczO3Q"
      },
      "source": [
        "class custom:\n",
        "    def __init__(self):\n",
        "        self.state = None\n",
        "        self.position = [-1, 1]\n",
        "        self.velocity = [1, -1]\n",
        "        self.T = 0.01\n",
        "        self.k = 0.1\n",
        "        self.threshold = 0.3\n",
        "\n",
        "\n",
        "    def Res(self):\n",
        "        s1 = np.random.uniform(low=0, high=4)\n",
        "        s2 = np.random.uniform(low=0, high=4)\n",
        "        self.state = (s1, s2)\n",
        "        return self.state\n",
        "\n",
        "    def Step(self, action):\n",
        "        next_s1 = self.state[0] + self.T * self.state[1]\n",
        "        next_s2 = self.state[1] + self.T * (-self.k * self.state[1] + action)\n",
        "\n",
        "        if abs(next_s2) <= self.threshold and abs(next_s1) <= self.threshold:\n",
        "          done = True\n",
        "          reward = 100\n",
        "        else:\n",
        "          if next_s1 * next_s2 > 0 :\n",
        "            reward =  - abs(next_s1) - action * self.state[1] - 10\n",
        "          else:\n",
        "            reward =  - abs(next_s1) - 1\n",
        "            done = False\n",
        "            \n",
        "          self.state = (next_s1, next_s2)\n",
        "\n",
        "        return self.state, reward, done"
      ],
      "execution_count": 17,
      "outputs": []
    }
  ]
}